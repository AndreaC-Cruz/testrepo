{
 "cells": [
  {
   "cell_type": "markdown",
   "metadata": {},
   "source": [
    "<center>\n",
    "    <img src=\"https://s3-api.us-geo.objectstorage.softlayer.net/cf-courses-data/CognitiveClass/Logos/organization_logo/organization_logo.png\" width=\"300\" alt=\"cognitiveclass.ai logo\"  />\n",
    "</center>\n"
   ]
  },
  {
   "cell_type": "markdown",
   "metadata": {},
   "source": [
    "#### Add your code below following the instructions given in the course\n"
   ]
  },
  {
   "cell_type": "markdown",
   "metadata": {},
   "source": [
    "<h1>My Jupyter Notebook on IBM Watson Studio"
   ]
  },
  {
   "cell_type": "markdown",
   "metadata": {},
   "source": [
    "**Andrea Carolina de la Cruz Alvarez** <br> Data Analyst"
   ]
  },
  {
   "cell_type": "markdown",
   "metadata": {},
   "source": [
    "*Data science it´s a big part of my career and i need strong bases to improve my application and bring better solutions*"
   ]
  },
  {
   "cell_type": "markdown",
   "metadata": {},
   "source": [
    "<h3>My code is going to print the result of 2+2"
   ]
  },
  {
   "cell_type": "code",
   "execution_count": 14,
   "metadata": {},
   "outputs": [
    {
     "name": "stdout",
     "output_type": "stream",
     "text": [
      "The result of 2+2 is 4\n"
     ]
    }
   ],
   "source": [
    "x = 2+2\n",
    "print(\"The result of 2+2 is\",x)"
   ]
  },
  {
   "cell_type": "markdown",
   "metadata": {},
   "source": [
    ">This is the table\n",
    "\n",
    "<code>x =2+2\n",
    "\n",
    "<strike>Es una suma\n",
    "\n",
    "---\n",
    "| | Bullet  | Numbered    | Hyperlinks   | Images|\n",
    "|---:|:-------------|:-----------|:------|:------|\n",
    "| 1 |-Apple  | 1._Apple  | [link text](https://www.google.com/search?rlz=1C1GCEU_esMX1007MX1007&source=univ&tbm=isch&q=mazana&fir=E-UCXIkEJvO_TM%252CFlqBvzvrEou_hM%252C_%253BZv-0g8rmuH6h5M%252C-rp_uad9RrplxM%252C_%253BIK8z82nkrmTV3M%252CMrWJjo9ObwNadM%252C_%253BwoIXN0q5c9Ht3M%252CV01RUxo5EBQNMM%252C_%253BTHDCYRHvuTonxM%252CQ3mAFFsHuUggIM%252C_%253BX3cc-0eKsim3LM%252CUtJVUTa8ysP6_M%252C_%253Bkn3JUR8YFC1RGM%252C_Z_G1rOzJR6s5M%252C_%253BC5oYAvrSb2-HJM%252CrZutWPkPys0yAM%252C_%253BoE_RossWB4S8fM%252C-rp_uad9RrplxM%252C_%253BX4xH58YwAQfeXM%252CVPXSJF8Vm3NDtM%252C_&usg=AI4_-kR-nOu7gdQjJWwsYjSONDZkETpiNg&sa=X&ved=2ahUKEwiZk4iIvsr6AhVTK0QIHV5-BoQQjJkEegQIAxAC&biw=1920&bih=937&dpr=1)| <img> <src=\"https://www.smartnfinal.com.mx/wp-content/uploads/2018/08/99599-Manzana-golden-1-kg.jpg\">   |\n",
    "| 2 |-Banana | 2._Bannana| [link text](https://www.google.com/search?q=platano&tbm=isch&ved=2ahUKEwjWuY6Jvsr6AhXTHd8KHcHBBqEQ2-cCegQIABAA&oq=platano&gs_lcp=CgNpbWcQAzIHCAAQsQMQQzILCAAQgAQQsQMQgwEyCAgAEIAEELEDMggIABCABBCxAzILCAAQgAQQsQMQgwEyCwgAEIAEELEDEIMBMggIABCABBCxAzIICAAQgAQQsQMyCAgAEIAEELEDMgUIABCABDoECAAQQ1CLBlj4DGDdEGgAcAB4AIABmgGIAawHkgEDMi42mAEAoAEBqgELZ3dzLXdpei1pbWfAAQE&sclient=img&ei=vzM-Y5beOdO7_AbBg5uICg&bih=937&biw=1920&rlz=1C1GCEU_esMX1007MX1007)   | <img> <src=\"https://static1.diariovasco.com/www/multimedia/202106/04/media/cortadas/platano-kUyC-RCIEbjdcaFn9Yc7KKpofzYN-624x385@Diario%20Vasco-DiarioVasco.jpg\">   |"
   ]
  },
  {
   "cell_type": "code",
   "execution_count": null,
   "metadata": {},
   "outputs": [],
   "source": []
  }
 ],
 "metadata": {
  "kernelspec": {
   "display_name": "Python",
   "language": "python",
   "name": "conda-env-python-py"
  },
  "language_info": {
   "codemirror_mode": {
    "name": "ipython",
    "version": 3
   },
   "file_extension": ".py",
   "mimetype": "text/x-python",
   "name": "python",
   "nbconvert_exporter": "python",
   "pygments_lexer": "ipython3",
   "version": "3.7.12"
  }
 },
 "nbformat": 4,
 "nbformat_minor": 4
}
